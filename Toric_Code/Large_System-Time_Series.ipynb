{
 "cells": [
  {
   "cell_type": "markdown",
   "metadata": {},
   "source": [
    "# Relaxation and Correlation Timescales of $S_{EE}$\n",
    "\n",
    "This notebook is designed to test the relaxation and correlation timescales of the variable $S_{EE}$. The goal is to analyze and understand the behavior of this variable over time in order to optimise $t_{mmt}$.\n"
   ]
  },
  {
   "cell_type": "markdown",
   "metadata": {},
   "source": []
  }
 ],
 "metadata": {
  "language_info": {
   "name": "python"
  }
 },
 "nbformat": 4,
 "nbformat_minor": 2
}
