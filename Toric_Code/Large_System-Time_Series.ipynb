{
 "cells": [
  {
   "cell_type": "markdown",
   "metadata": {},
   "source": [
    "# Testing Relaxation and Correlation Timescales for Half-System Entropy\n",
    "\n",
    "This document aims to explore and analyze the relaxation and correlation timescales for the half-system entropy in a given system. The half-system entropy is a measure of the disorder or randomness in a system, specifically focusing on the entropy of half of the system."
   ]
  },
  {
   "cell_type": "code",
   "execution_count": 4,
   "metadata": {},
   "outputs": [],
   "source": [
    "using Base.Filesystem  # for creaating directories etc\n",
    "using Random, Distributions  # random numbers\n",
    "using HDF5  # hdf5 files\n",
    "using QuantumClifford  # this is the stabilizer simulation package\n",
    "using Plots # for plotting\n",
    "using Formatting # string formatting\n",
    "using LinearAlgebra # some useful matrices etc.\n",
    "include(\"../AdditionalStructure/NewTypes.jl\")\n",
    "include(\"../AdditionalStructure/BitStringOps.jl\")\n",
    "include(\"../AdditionalStructure/Measurements.jl\")\n",
    "include(\"../AdditionalStructure/MICModels.jl\")\n",
    "include(\"../AdditionalStructure/ModelRuns.jl\")\n",
    "include(\"../AdditionalStructure/HelperTools.jl\")\n",
    "include(\"../AdditionalStructure/Iterators.jl\");"
   ]
  },
  {
   "cell_type": "code",
   "execution_count": 5,
   "metadata": {},
   "outputs": [
    {
     "data": {
      "text/plain": [
       "example_run (generic function with 1 method)"
      ]
     },
     "metadata": {},
     "output_type": "display_data"
    }
   ],
   "source": [
    "function example_run(L::Integer, d::Integer, p_f_arr::Array{Float64}, p_b_arr::Array{Float64}, t_mmt::Array{Int}, subdiv_array::Array{Int})\n",
    "    \"\"\" This is the main function on terminal call.\n",
    "        The simulation is of Toric Code and we try and measure the Boson and Fermion with some probabilities.\n",
    "        The main measure is the TEE with a ceratin geometry (Kiatev Donut). \n",
    "    \"\"\"\n",
    "\n",
    "    system = Init_EdgeSquareLattice_KitaevDoNuT(L, d);\n",
    "    n_t = length(t_mmt)\n",
    "    n_pf = length(p_f_arr)\n",
    "    p_f_indices = 1:n_pf\n",
    "    n_pb = length(p_b_arr)\n",
    "    p_b_indices = 1:n_pb\n",
    "    n_subdiv = length(subdiv_array)\n",
    "\n",
    "    all_p_arr = collect(Iterators.product(p_f_arr, p_b_arr))\n",
    "    all_p_indices = collect(Iterators.product(p_f_indices, p_b_indices))\n",
    "    TEE_array = fill(NaN, n_t, n_pf, n_pb)\n",
    "    EE_cut_array  = fill(NaN, n_t, n_pf, n_pb, n_subdiv)\n",
    "\n",
    "    Threads.@threads for loop_index in 1:(n_pf * n_pb)\n",
    "    # for loop_index in 1:(n_pf * n_pb)\n",
    "        Indices = all_p_indices[loop_index]\n",
    "        Probs = all_p_arr[loop_index]\n",
    "        p_f_index, p_b_index = Indices\n",
    "        p_f, p_b = Probs\n",
    "        p_tc = 1 - p_f - p_b\n",
    "        if p_tc < 0 # Easy fix for scanning the full parameter space triangle. ToDo: Implement a better way to scan the triangle.\n",
    "            continue\n",
    "        end\n",
    "        stab_distro = Categorical([p_tc/2, p_tc/2, p_b, 0, p_f])\n",
    "        # state = toric_code_GS(system) # Get the pure TC ground state as the initial state\n",
    "        state = get_random_pure_state(system) # Get a random pure state.\n",
    "        t_old = 0\n",
    "        for t_index in 1:n_t\n",
    "            t_evol = t_mmt[t_index] - t_old\n",
    "            t_old = t_mmt[t_index]\n",
    "            state = iterate_measurements_only_fast!(state, system, () -> toric_code(system, stab_distro), t_evol)\n",
    "            # TEE_array[t_index, p_f_index, p_b_index] = entanglement_entropy_topo(state, system)\n",
    "            EE_cut_array[t_index, p_f_index, p_b_index, :] = entanglement_entropy_cut(state, system, subdiv_array)\n",
    "        end\n",
    "    end\n",
    "\n",
    "    return EE_cut_array#, TEE_array\n",
    "end"
   ]
  },
  {
   "cell_type": "code",
   "execution_count": 6,
   "metadata": {},
   "outputs": [],
   "source": [
    "p_f_arr = [0.5]\n",
    "p_b_arr = [0, 0.1, 0.4]\n",
    "\n",
    "L = 60\n",
    "d = 3\n",
    "\n",
    "t_mmt = Array{Int}(1:10000)\n",
    "subdiv_array = [30]\n",
    "\n",
    "EE_cut_array = example_run(L, d, p_f_arr, p_b_arr, t_mmt, subdiv_array)"
   ]
  }
 ],
 "metadata": {
  "kernelspec": {
   "display_name": "Julia 1.10.2",
   "language": "julia",
   "name": "julia-1.10"
  },
  "language_info": {
   "file_extension": ".jl",
   "mimetype": "application/julia",
   "name": "julia",
   "version": "1.10.2"
  }
 },
 "nbformat": 4,
 "nbformat_minor": 2
}
