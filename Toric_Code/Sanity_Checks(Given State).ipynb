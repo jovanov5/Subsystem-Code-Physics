{
 "cells": [
  {
   "cell_type": "markdown",
   "metadata": {},
   "source": [
    "# Sanity Checks on a fixed TC Ground State!"
   ]
  },
  {
   "cell_type": "code",
   "execution_count": 2,
   "metadata": {},
   "outputs": [],
   "source": [
    "using Base.Filesystem  # for creaating directories etc\n",
    "using Random, Distributions  # random numbers\n",
    "using HDF5  # hdf5 files\n",
    "using QuantumClifford  # this is the stabilizer simulation package\n",
    "using Plots # for plotting\n",
    "using Formatting # string formatting\n",
    "using LinearAlgebra # some useful matrices etc.\n",
    "include(\"AdditionalStructure/NewTypes.jl\")\n",
    "include(\"AdditionalStructure/BitStringOps.jl\")\n",
    "include(\"AdditionalStructure/Measurements.jl\")\n",
    "include(\"AdditionalStructure/MICModels.jl\")\n",
    "include(\"AdditionalStructure/ModelRuns.jl\");"
   ]
  },
  {
   "cell_type": "code",
   "execution_count": 3,
   "metadata": {},
   "outputs": [
    {
     "name": "stdout",
     "output_type": "stream",
     "text": [
      "EE=0\n",
      "TEN="
     ]
    },
    {
     "name": "stdout",
     "output_type": "stream",
     "text": [
      "-1.0\n"
     ]
    },
    {
     "name": "stdout",
     "output_type": "stream",
     "text": [
      "TEE=-1\n"
     ]
    }
   ],
   "source": [
    "# Geometry and other useful constant are packed in this struct, EdgeSquareLattice and VertexSquareLattice\n",
    "\n",
    "subsystem = 2\n",
    "system = Init_EdgeSquareLattice(subsystem)\n",
    "L = system.L\n",
    "nbits = system.nbits\n",
    "\n",
    "state = toric_code_GS(system, true, true)\n",
    "\n",
    "println(\"EE=\", entanglement_entropy(state, 1:nbits, Val(:clip)))\n",
    "println(\"TEN=\", entanglement_negativity(state, system))\n",
    "println(\"TEE=\", entanglement_entropy_topo(state, system))"
   ]
  },
  {
   "cell_type": "code",
   "execution_count": 4,
   "metadata": {},
   "outputs": [
    {
     "name": "stdout",
     "output_type": "stream",
     "text": [
      "e_A=15\n",
      "e_B=15\n",
      "e_C=15\n",
      "e_AB=15\n",
      "e_BC=15\n",
      "e_AC=29\n",
      "e_ABC=15\n"
     ]
    }
   ],
   "source": [
    "r_A = system.r_A\n",
    "r_B = system.r_B\n",
    "r_C = system.r_C\n",
    "r_AB = system.r_AB\n",
    "r_BC = system.r_BC\n",
    "r_ABC = system.r_ABC\n",
    "\n",
    "S = system.S\n",
    "P_A = system.P_A\n",
    "P_B = system.P_B\n",
    "P_C = system.P_C\n",
    "\n",
    "T = stab_to_gf2(stabilizerview(state))'\n",
    "\n",
    "e_A = entanglement_entropy(state, r_A, Val(:clip))\n",
    "e_B = entanglement_entropy(state, r_B, Val(:clip))\n",
    "e_C = entanglement_entropy(state, r_C, Val(:clip))\n",
    "e_AB = entanglement_entropy(state, r_AB, Val(:clip))\n",
    "e_BC = entanglement_entropy(state, r_BC, Val(:clip))\n",
    "e_ABC = entanglement_entropy(state, r_ABC, Val(:clip))\n",
    "e_AC = entanglement_entropy(state, [r_A; r_C], Val(:rref))\n",
    "\n",
    "println(\"e_A=\", e_A)\n",
    "println(\"e_B=\", e_B)\n",
    "println(\"e_C=\", e_C)\n",
    "println(\"e_AB=\", e_AB)\n",
    "println(\"e_BC=\", e_BC)\n",
    "println(\"e_AC=\", e_AC)\n",
    "println(\"e_ABC=\", e_ABC)"
   ]
  },
  {
   "cell_type": "code",
   "execution_count": 7,
   "metadata": {},
   "outputs": [
    {
     "name": "stdout",
     "output_type": "stream",
     "text": [
      "L=8\n",
      "nbits=128\n",
      "cell_num=64\n",
      "subsys=2\n",
      "subsys_size=32\n"
     ]
    }
   ],
   "source": [
    "println(\"L=\",system.L)\n",
    "println(\"nbits=\",system.nbits)\n",
    "println(\"cell_num=\",system.cell_num)\n",
    "println(\"subsys=\",system.subsys)\n",
    "println(\"subsys_size=\",system.subsys_size)"
   ]
  },
  {
   "cell_type": "code",
   "execution_count": null,
   "metadata": {},
   "outputs": [],
   "source": []
  }
 ],
 "metadata": {
  "kernelspec": {
   "display_name": "Julia 1.9.4",
   "language": "julia",
   "name": "julia-1.9"
  },
  "language_info": {
   "file_extension": ".jl",
   "mimetype": "application/julia",
   "name": "julia",
   "version": "1.9.4"
  }
 },
 "nbformat": 4,
 "nbformat_minor": 2
}
