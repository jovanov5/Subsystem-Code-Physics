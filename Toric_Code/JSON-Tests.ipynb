{
 "cells": [
  {
   "cell_type": "markdown",
   "metadata": {},
   "source": [
    "# JSON Read and Write Testing Notebook\n",
    "\n",
    "This notebook is created to test the functionality of reading and writing JSON files. It aims to explore different methods and techniques for working with JSON data in order to fulfill specific purposes.\n"
   ]
  },
  {
   "cell_type": "code",
   "execution_count": 1,
   "metadata": {},
   "outputs": [],
   "source": [
    "using JSON3"
   ]
  },
  {
   "cell_type": "code",
   "execution_count": 14,
   "metadata": {},
   "outputs": [],
   "source": [
    "read_string = read(\"read_dict.json\", String)\n",
    "read_dict = JSON3.read(read_string)\n",
    "\n",
    "write_dict = Dict(\n",
    "    \"name\" => \"John\",\n",
    "    \"age\" => 30,\n",
    "    \"city\" => \"New York\",\n",
    "    \"address\" => Dict(\n",
    "        \"street\" => \"123 Main St\",\n",
    "        \"zipcode\" => \"10001\",\n",
    "        \"state\" => \"NY\"\n",
    "    ),\n",
    "    \"contacts\" => [\n",
    "        Dict(\n",
    "            \"name\" => \"Alice\",\n",
    "            \"phone\" => \"123-456-7890\",\n",
    "            \"email\" => \"alice@example.com\"\n",
    "        ),\n",
    "        Dict(\n",
    "            \"name\" => \"Bob\",\n",
    "            \"phone\" => \"987-654-3210\",\n",
    "            \"email\" => \"bob@example.com\"\n",
    "        )\n",
    "    ],\n",
    "    \"pets\" => Dict(\n",
    "        \"dog\" => Dict(\n",
    "            \"name\" => \"Max\",\n",
    "            \"breed\" => \"Labrador\",\n",
    "            \"age\" => 5\n",
    "        ),\n",
    "        \"cat\" => Dict(\n",
    "            \"name\" => \"Whiskers\",\n",
    "            \"breed\" => \"Siamese\",\n",
    "            \"age\" => 3\n",
    "        )\n",
    "    )\n",
    ")\n",
    "\n",
    "open(\"write_dict.json\", \"w\") do io\n",
    "    JSON3.pretty(io, complicated_dict)\n",
    "end"
   ]
  },
  {
   "cell_type": "code",
   "execution_count": 15,
   "metadata": {},
   "outputs": [
    {
     "name": "stdout",
     "output_type": "stream",
     "text": [
      "name: John Doe\n",
      "age: 30\n",
      "email: johndoe@example.com\n",
      "address: {\n",
      "   \"street\": \"123 Main St\",\n",
      "     \"city\": \"New York\",\n",
      "    \"state\": \"NY\",\n",
      "      \"zip\": \"10001\"\n",
      "}\n",
      "phoneNumbers: JSON3.Object[{\n",
      "     \"type\": \"home\",\n",
      "   \"number\": \"555-1234\"\n",
      "}, {\n",
      "     \"type\": \"work\",\n",
      "   \"number\": \"555-5678\"\n",
      "}]\n",
      "friends: JSON3.Object[{\n",
      "    \"name\": \"Jane Smith\",\n",
      "     \"age\": 28,\n",
      "   \"email\": \"janesmith@example.com\"\n",
      "}, {\n",
      "    \"name\": \"Bob Johnson\",\n",
      "     \"age\": 32,\n",
      "   \"email\": \"bobjohnson@example.com\"\n",
      "}]\n"
     ]
    }
   ],
   "source": [
    "for key in keys(read_dict)\n",
    "    println(\"$key: $(read_dict[key])\")\n",
    "end"
   ]
  },
  {
   "cell_type": "code",
   "execution_count": 23,
   "metadata": {},
   "outputs": [
    {
     "data": {
      "text/plain": [
       "Dict{Symbol, Any} with 6 entries:\n",
       "  :address      => {…\n",
       "  :age          => 30\n",
       "  :name         => \"John Doe\"\n",
       "  :email        => \"johndoe@example.com\"\n",
       "  :friends      => Object[{…\n",
       "  :phoneNumbers => Object[{…"
      ]
     },
     "metadata": {},
     "output_type": "display_data"
    }
   ],
   "source": [
    "Dict(read_dict)"
   ]
  },
  {
   "cell_type": "code",
   "execution_count": 19,
   "metadata": {},
   "outputs": [
    {
     "data": {
      "text/plain": [
       "JSON3.Object{Base.CodeUnits{UInt8, String}, SubArray{UInt64, 1, Vector{UInt64}, Tuple{UnitRange{Int64}}, true}}"
      ]
     },
     "metadata": {},
     "output_type": "display_data"
    }
   ],
   "source": [
    "typeof(read_dict[\"address\"])"
   ]
  },
  {
   "cell_type": "code",
   "execution_count": 28,
   "metadata": {},
   "outputs": [
    {
     "data": {
      "text/plain": [
       "4-element Vector{String}:\n",
       " \"../Remote-Hydra/Toric_Code/args/argfile_1.json\"\n",
       " \"../Remote-Hydra/Toric_Code/args/argfile_2.json\"\n",
       " \"../Remote-Hydra/Toric_Code/args/argfile_3.json\"\n",
       " \"../Remote-Hydra/Toric_Code/args/argfile_4.json\""
      ]
     },
     "metadata": {},
     "output_type": "display_data"
    }
   ],
   "source": [
    "using Glob\n",
    "\n",
    "Files = glob(\"*.json\", \"../Remote-Hydra/Toric_Code/args\")"
   ]
  },
  {
   "cell_type": "code",
   "execution_count": null,
   "metadata": {},
   "outputs": [],
   "source": []
  }
 ],
 "metadata": {
  "kernelspec": {
   "display_name": "Julia 1.10.2",
   "language": "julia",
   "name": "julia-1.10"
  },
  "language_info": {
   "file_extension": ".jl",
   "mimetype": "application/julia",
   "name": "julia",
   "version": "1.10.2"
  }
 },
 "nbformat": 4,
 "nbformat_minor": 2
}
