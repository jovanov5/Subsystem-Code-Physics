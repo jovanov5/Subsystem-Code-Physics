{
 "cells": [
  {
   "cell_type": "code",
   "execution_count": 1,
   "metadata": {},
   "outputs": [],
   "source": [
    "using Base.Filesystem  # for creaating directories etc\n",
    "using Random, Distributions  # random numbers\n",
    "using HDF5  # hdf5 files\n",
    "using QuantumClifford  # this is the stabilizer simulation package\n",
    "# using Plots # for plotting\n",
    "using Formatting # string formatting\n",
    "using LinearAlgebra # some useful matrices etc.\n",
    "dep_path = \"../AdditionalStructure/Julia/\"\n",
    "include(\"$(dep_path)NewTypes.jl\")\n",
    "include(\"$(dep_path)BitStringOps.jl\")\n",
    "include(\"$(dep_path)Measurements.jl\")\n",
    "include(\"$(dep_path)MICModels.jl\")\n",
    "include(\"$(dep_path)ModelRuns.jl\")\n",
    "include(\"$(dep_path)HelperTools.jl\")\n",
    "include(\"$(dep_path)Iterators.jl\");"
   ]
  },
  {
   "cell_type": "markdown",
   "metadata": {},
   "source": [
    "# Quantum Zassenhausen Algorithm\n",
    "\n",
    "Reformulation of the Zassenhausen algorithm to work with the `QuantumCircuits.jl` package by giving it a physical interpretation.\n",
    "\n",
    "Given two subgroups of Pauli string group on N bits, $G_1 \\subset P_2^N$ and $G_2 \\subset P_2^N$, we would like to compute the sizes of their sum and intersection, $\\langle G_1, G_2 \\rangle$ and $G_1 \\cap G_2$."
   ]
  },
  {
   "cell_type": "markdown",
   "metadata": {},
   "source": [
    "We need two maps:\n",
    "\n",
    "1. $f: P_2^N \\rightarrow P_2^{4N}, \\quad f(g) = g \\otimes g \\otimes g \\otimes g,$ where $\\otimes$ is the Pauli string concatanation.\n",
    "\n",
    "2. $h: P_2^N \\rightarrow P_2^{4N}, \\quad f(g) = g \\otimes g \\otimes e \\otimes e,$ where $e$ is the identity of $P_2^N$."
   ]
  },
  {
   "cell_type": "markdown",
   "metadata": {},
   "source": [
    "Via which we now can define the Zassenhausen stabiliser state from these subgroups as: $$S_Z = \\langle f(G_1), h(G_2) \\rangle.$$\n",
    "\n",
    "Whose entanglement measures encode what we want:\n",
    "\n",
    "1. $ S_{vN} (S_Z, 1:4N) = 4N - \\text{dim} \\langle G_1, G_2 \\rangle - \\text{dim} G_1 \\cap G_2 $\n",
    "\n",
    "2. $ S_{vN} (S_Z, 2N+1:4N) = 2N - \\text{dim} G_1 \\cap G_2 $"
   ]
  },
  {
   "cell_type": "code",
   "execution_count": 11,
   "metadata": {},
   "outputs": [
    {
     "data": {
      "text/plain": [
       "1"
      ]
     },
     "metadata": {},
     "output_type": "display_data"
    }
   ],
   "source": [
    "G = [P\"+XX\", P\"+ZZ\"] # the not a valid stabilizer group\n",
    "H = [P\"+ZZ\", P\"+ZI\"]\n",
    "\n",
    "a,_ = zassenhausen_alg(G, H, 2)\n",
    "\n",
    "a"
   ]
  },
  {
   "cell_type": "code",
   "execution_count": 3,
   "metadata": {},
   "outputs": [
    {
     "data": {
      "text/plain": [
       "PauliOperator{Array{UInt8, 0}, Vector{UInt64}}"
      ]
     },
     "metadata": {},
     "output_type": "display_data"
    }
   ],
   "source": [
    "typeof(G[1])"
   ]
  }
 ],
 "metadata": {
  "kernelspec": {
   "display_name": "Julia 1.10.2",
   "language": "julia",
   "name": "julia-1.10"
  },
  "language_info": {
   "file_extension": ".jl",
   "mimetype": "application/julia",
   "name": "julia",
   "version": "1.10.2"
  }
 },
 "nbformat": 4,
 "nbformat_minor": 2
}
