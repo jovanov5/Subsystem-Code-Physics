{
 "cells": [
  {
   "cell_type": "markdown",
   "metadata": {},
   "source": [
    "# Testing Entanglement Measures on a Random Clifford State\n",
    "\n",
    "This notebook is used to document tests of entanglement measures (in `Measurements.jl`) on a random Clifford state.\n"
   ]
  },
  {
   "cell_type": "code",
   "execution_count": 9,
   "metadata": {},
   "outputs": [],
   "source": [
    "using Base.Filesystem  # for creaating directories etc\n",
    "using Random, Distributions  # random numbers\n",
    "using HDF5  # hdf5 files\n",
    "using QuantumClifford  # this is the stabilizer simulation package\n",
    "using Plots # for plotting\n",
    "using Formatting # string formatting\n",
    "using LinearAlgebra # some useful matrices etc.\n",
    "include(\"../AdditionalStructure/NewTypes.jl\")\n",
    "include(\"../AdditionalStructure/BitStringOps.jl\")\n",
    "include(\"../AdditionalStructure/Measurements.jl\")\n",
    "include(\"../AdditionalStructure/MICModels.jl\")\n",
    "include(\"../AdditionalStructure/ModelRuns.jl\")\n",
    "include(\"../AdditionalStructure/HelperTools.jl\")\n",
    "include(\"../AdditionalStructure/Iterators.jl\");"
   ]
  },
  {
   "cell_type": "code",
   "execution_count": 10,
   "metadata": {},
   "outputs": [
    {
     "name": "stdout",
     "output_type": "stream",
     "text": []
    }
   ],
   "source": [
    "L = 15\n",
    "d = 3\n",
    "system = Init_EdgeSquareLattice_KitaevDoNuT(L, d)\n",
    "state = MixedDestabilizer(random_stabilizer(system.nbits))\n",
    "\n",
    "n_subdiv = 11\n",
    "subdiv_array = []\n",
    "for i_sub in 1:(n_subdiv - 1)\n",
    "    push!(subdiv_array, round(Int, system.L * i_sub / n_subdiv))\n",
    "end\n",
    "subdiv_array = Integer.(subdiv_array)\n",
    "\n",
    "ee_array = entanglement_entropy_cut(state, system, n_subdiv)\n",
    "plot(subdiv_array, ee_array)"
   ]
  },
  {
   "cell_type": "code",
   "execution_count": 11,
   "metadata": {},
   "outputs": [
    {
     "name": "stdout",
     "output_type": "stream",
     "text": []
    },
    {
     "name": "stderr",
     "output_type": "stream",
     "text": [
      "attempt to save state beyond implementation limit\n",
      "attempt to save state beyond implementation limit\n"
     ]
    }
   ],
   "source": [
    "L = 18\n",
    "d = 3\n",
    "system = Init_EdgeSquareLattice_KitaevDoNuT(L, d)\n",
    "state = MixedDestabilizer(random_stabilizer(system.nbits))\n",
    "\n",
    "n_subdiv = 12\n",
    "subdiv_array = []\n",
    "for i_sub in 1:(n_subdiv - 1)\n",
    "    push!(subdiv_array, round(Int, system.L * i_sub / n_subdiv))\n",
    "end\n",
    "subdiv_array = Integer.(subdiv_array)\n",
    "\n",
    "ee_array = entanglement_entropy_cut(state, system, n_subdiv)\n",
    "plot(subdiv_array, ee_array)"
   ]
  },
  {
   "cell_type": "code",
   "execution_count": 12,
   "metadata": {},
   "outputs": [
    {
     "data": {
      "text/plain": [
       "152"
      ]
     },
     "metadata": {},
     "output_type": "display_data"
    }
   ],
   "source": [
    "tee = entanglement_entropy_topo(state, system)"
   ]
  }
 ],
 "metadata": {
  "kernelspec": {
   "display_name": "Julia 1.10.2",
   "language": "julia",
   "name": "julia-1.10"
  },
  "language_info": {
   "file_extension": ".jl",
   "mimetype": "application/julia",
   "name": "julia",
   "version": "1.10.2"
  }
 },
 "nbformat": 4,
 "nbformat_minor": 2
}
