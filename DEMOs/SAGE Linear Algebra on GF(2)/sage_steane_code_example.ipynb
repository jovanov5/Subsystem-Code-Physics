{
 "cells": [
  {
   "cell_type": "code",
   "execution_count": 1,
   "id": "6d1b6728",
   "metadata": {
    "vscode": {
     "languageId": "python"
    }
   },
   "outputs": [
    {
     "name": "stdout",
     "output_type": "stream",
     "text": [
      "The Steane code encodes 1 logical qubits using 7 physical qubits\n"
     ]
    }
   ],
   "source": [
    "from sage.all import *\n",
    "\n",
    "# define the parity check amrtix in standart form of the Steane code\n",
    "# GF(2) is a short-handle for F2 but you can get other finite fields GF(p^n)\n",
    "H = matrix(GF(2), # this makes the matrix F2\n",
    "           [[0, 0, 0, 1, 1, 1, 1, 0, 0, 0, 0, 0, 0, 0],\n",
    "            [0, 1, 1, 0, 0, 1, 1, 0, 0, 0, 0, 0, 0, 0],\n",
    "            [1, 0, 1, 0, 1, 0, 1, 0, 0, 0, 0, 0, 0, 0],\n",
    "            [0, 0, 0, 0, 0, 0, 0, 0, 0, 0, 1, 1, 1, 1],\n",
    "            [0, 0, 0, 0, 0, 0, 0, 0, 1, 1, 0, 0, 1, 1],\n",
    "            [0, 0, 0, 0, 0, 0, 0, 1, 0, 1, 0, 1, 0, 1]],\n",
    "        sparse=False)\n",
    "\n",
    "# dimension of the matrix is (nstabs, 2 * n) where n is the number of physical qubits\n",
    "nstabs, two_n= H.dimensions()\n",
    "\n",
    "n = two_n // 2\n",
    "\n",
    "\n",
    "# define the symplectic form\n",
    "id = matrix.identity(GF(2), n)\n",
    "w = block_matrix([[matrix(n, n), id], [id, matrix(n, n)]])\n",
    "\n",
    "# compute the RIGHT kernel of H * w, this gives stuff that commutes with all stabilizers\n",
    "centralizer = (H * w).right_kernel()\n",
    "\n",
    "assert dimension(H.row_space()) == nstabs, 'Stabilizers should be independent!'\n",
    "\n",
    "# compute the number of logicals as log2(dim(centralizer) - nstabs)\n",
    "k = log(dimension(centralizer) - nstabs, 2)\n",
    "\n",
    "print('The Steane code encodes', k, 'logical qubits using', n, 'physical qubits')\n"
   ]
  },
  {
   "cell_type": "code",
   "execution_count": 2,
   "id": "fa7bd043",
   "metadata": {
    "vscode": {
     "languageId": "python"
    }
   },
   "outputs": [
    {
     "data": {
      "text/plain": [
       "Vector space of degree 18 and dimension 2 over Finite Field of size 2\n",
       "Basis matrix:\n",
       "[0 1 1 1 1 1 1 0 0 0 0 0 0 0 0 0 0 0]\n",
       "[0 0 0 0 0 0 0 1 1 0 0 0 0 0 0 0 0 0]"
      ]
     },
     "execution_count": 2,
     "metadata": {},
     "output_type": "execute_result"
    }
   ],
   "source": [
    "# a minimal SSC example: 2D Bacon-Shor\n",
    "\n",
    "Lx = 3\n",
    "Ly = 3\n",
    "n2 = Lx * Ly\n",
    "rows = []\n",
    "\n",
    "for ix in range(Lx):\n",
    "    for iy in range(Ly):\n",
    "        # x check on site\n",
    "        x_check = [0 for _ in range(2 * n2)]\n",
    "        x_check[ix * Ly + iy] = 1\n",
    "        x_check[((ix + 1) % Lx) * Ly + iy] = 1\n",
    "\n",
    "        # add to row list\n",
    "        rows += [x_check]\n",
    "# same for the y checks\n",
    "for ix in range(Lx):\n",
    "    for iy in range(Ly):\n",
    "        y_check = [0 for _ in range(2 * n2)]\n",
    "        y_check[n + ix * Ly + iy] = 1\n",
    "        y_check[n + ix * Ly + ((iy + 1) % Ly)] = 1\n",
    "\n",
    "        rows += [y_check]\n",
    "\n",
    "H2 = matrix(GF(2), rows, sparse=False)\n",
    "\n",
    "# define the symplectic form\n",
    "id2 = matrix.identity(GF(2), n2)\n",
    "w2 = block_matrix([[matrix(n2, n2), id2], [id2, matrix(n2, n2)]])\n",
    "\n",
    "# for a subsystem code, we cant subtract just the number of stabilizers since we do not have them. \n",
    "# howecer, the center of the check group can be computed as the intersection of the centralizer (kernel of H2 * w) the check group itself (the row space of H2)\n",
    "centralizer2 = (H2 * w2).right_kernel()\n",
    "center2 = centralizer2.intersection(H2.row_space())\n",
    "\n",
    "# we indeed get even a rather nice basis (that is a rather nice set of stabilizer generators)\n",
    "# you can get the basis in matrix form using center2.basis_matrix()\n",
    "center2"
   ]
  },
  {
   "cell_type": "code",
   "execution_count": 3,
   "id": "27e4bfb4",
   "metadata": {
    "vscode": {
     "languageId": "python"
    }
   },
   "outputs": [
    {
     "name": "stdout",
     "output_type": "stream",
     "text": [
      "The 3x3 Bacon-Shor code encodes 2 logical qubit(s) using 9 physical qubits\n"
     ]
    }
   ],
   "source": [
    "# now we con proceed as before\n",
    "\n",
    "k2 = log(dimension(centralizer2) - dimension(center2), 2)\n",
    "\n",
    "print(f'The {Lx}x{Ly} Bacon-Shor code encodes {k2} logical qubit(s) using {n2} physical qubits')\n"
   ]
  }
 ],
 "metadata": {
  "kernelspec": {
   "display_name": "SageMath 10.0",
   "language": "sage",
   "name": "sagemath"
  },
  "language_info": {
   "codemirror_mode": {
    "name": "ipython",
    "version": 3
   },
   "file_extension": ".py",
   "mimetype": "text/x-python",
   "name": "sage",
   "nbconvert_exporter": "python",
   "pygments_lexer": "ipython3",
   "version": "3.9.18"
  }
 },
 "nbformat": 4,
 "nbformat_minor": 5
}
